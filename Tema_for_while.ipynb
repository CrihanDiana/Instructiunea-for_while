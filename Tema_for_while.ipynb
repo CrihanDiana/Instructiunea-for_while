{
 "cells": [
  {
   "cell_type": "code",
   "execution_count": 1,
   "id": "8a1f27e0",
   "metadata": {},
   "outputs": [],
   "source": [
    "#Using stacked cycles generate the folowing diagram"
   ]
  },
  {
   "cell_type": "code",
   "execution_count": 2,
   "id": "33ee0e97",
   "metadata": {},
   "outputs": [
    {
     "name": "stdout",
     "output_type": "stream",
     "text": [
      "* \n",
      "* * \n",
      "* * * \n",
      "* * * * \n"
     ]
    }
   ],
   "source": [
    "rows = 4\n",
    "for i in range(1, 5):\n",
    "    print('* ' * i)"
   ]
  },
  {
   "cell_type": "code",
   "execution_count": 3,
   "id": "c39c1d63",
   "metadata": {},
   "outputs": [],
   "source": [
    "#Generate the multiplication table for all numbers from 1 to 10"
   ]
  },
  {
   "cell_type": "code",
   "execution_count": 4,
   "id": "e789bf00",
   "metadata": {},
   "outputs": [
    {
     "name": "stdout",
     "output_type": "stream",
     "text": [
      "1 x 1 = 2\n",
      "2 x 1 = 4\n",
      "3 x 1 = 6\n",
      "4 x 1 = 8\n",
      "5 x 1 = 10\n",
      "6 x 1 = 12\n",
      "7 x 1 = 14\n",
      "8 x 1 = 16\n",
      "9 x 1 = 18\n",
      "10 x 1 = 20\n",
      "1 x 2 = 2\n",
      "2 x 2 = 4\n",
      "3 x 2 = 6\n",
      "4 x 2 = 8\n",
      "5 x 2 = 10\n",
      "6 x 2 = 12\n",
      "7 x 2 = 14\n",
      "8 x 2 = 16\n",
      "9 x 2 = 18\n",
      "10 x 2 = 20\n",
      "1 x 3 = 2\n",
      "2 x 3 = 4\n",
      "3 x 3 = 6\n",
      "4 x 3 = 8\n",
      "5 x 3 = 10\n",
      "6 x 3 = 12\n",
      "7 x 3 = 14\n",
      "8 x 3 = 16\n",
      "9 x 3 = 18\n",
      "10 x 3 = 20\n",
      "1 x 4 = 2\n",
      "2 x 4 = 4\n",
      "3 x 4 = 6\n",
      "4 x 4 = 8\n",
      "5 x 4 = 10\n",
      "6 x 4 = 12\n",
      "7 x 4 = 14\n",
      "8 x 4 = 16\n",
      "9 x 4 = 18\n",
      "10 x 4 = 20\n",
      "1 x 5 = 2\n",
      "2 x 5 = 4\n",
      "3 x 5 = 6\n",
      "4 x 5 = 8\n",
      "5 x 5 = 10\n",
      "6 x 5 = 12\n",
      "7 x 5 = 14\n",
      "8 x 5 = 16\n",
      "9 x 5 = 18\n",
      "10 x 5 = 20\n",
      "1 x 6 = 2\n",
      "2 x 6 = 4\n",
      "3 x 6 = 6\n",
      "4 x 6 = 8\n",
      "5 x 6 = 10\n",
      "6 x 6 = 12\n",
      "7 x 6 = 14\n",
      "8 x 6 = 16\n",
      "9 x 6 = 18\n",
      "10 x 6 = 20\n",
      "1 x 7 = 2\n",
      "2 x 7 = 4\n",
      "3 x 7 = 6\n",
      "4 x 7 = 8\n",
      "5 x 7 = 10\n",
      "6 x 7 = 12\n",
      "7 x 7 = 14\n",
      "8 x 7 = 16\n",
      "9 x 7 = 18\n",
      "10 x 7 = 20\n",
      "1 x 8 = 2\n",
      "2 x 8 = 4\n",
      "3 x 8 = 6\n",
      "4 x 8 = 8\n",
      "5 x 8 = 10\n",
      "6 x 8 = 12\n",
      "7 x 8 = 14\n",
      "8 x 8 = 16\n",
      "9 x 8 = 18\n",
      "10 x 8 = 20\n",
      "1 x 9 = 2\n",
      "2 x 9 = 4\n",
      "3 x 9 = 6\n",
      "4 x 9 = 8\n",
      "5 x 9 = 10\n",
      "6 x 9 = 12\n",
      "7 x 9 = 14\n",
      "8 x 9 = 16\n",
      "9 x 9 = 18\n",
      "10 x 9 = 20\n",
      "1 x 10 = 2\n",
      "2 x 10 = 4\n",
      "3 x 10 = 6\n",
      "4 x 10 = 8\n",
      "5 x 10 = 10\n",
      "6 x 10 = 12\n",
      "7 x 10 = 14\n",
      "8 x 10 = 16\n",
      "9 x 10 = 18\n",
      "10 x 10 = 20\n"
     ]
    }
   ],
   "source": [
    "for j in range(1,11):\n",
    "    for i in range(1,11):\n",
    "        print(f\"{i} x {j} = {i*2}\")"
   ]
  },
  {
   "cell_type": "code",
   "execution_count": null,
   "id": "becf998b",
   "metadata": {},
   "outputs": [],
   "source": []
  }
 ],
 "metadata": {
  "kernelspec": {
   "display_name": "Python 3",
   "language": "python",
   "name": "python3"
  },
  "language_info": {
   "codemirror_mode": {
    "name": "ipython",
    "version": 3
   },
   "file_extension": ".py",
   "mimetype": "text/x-python",
   "name": "python",
   "nbconvert_exporter": "python",
   "pygments_lexer": "ipython3",
   "version": "3.7.9"
  }
 },
 "nbformat": 4,
 "nbformat_minor": 5
}
